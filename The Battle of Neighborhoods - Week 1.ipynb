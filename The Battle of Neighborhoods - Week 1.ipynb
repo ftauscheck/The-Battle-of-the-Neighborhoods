{
 "metadata": {
  "language_info": {
   "codemirror_mode": {
    "name": "ipython",
    "version": 3
   },
   "file_extension": ".py",
   "mimetype": "text/x-python",
   "name": "python",
   "nbconvert_exporter": "python",
   "pygments_lexer": "ipython3",
   "version": "3.8.5"
  },
  "orig_nbformat": 2,
  "kernelspec": {
   "name": "python385jvsc74a57bd05cb71912117fd9237603d37179a29596cf0466c6fe9ee17baf8c240e0f6fd266",
   "display_name": "Python 3.8.5 64-bit ('.venv': venv)"
  },
  "metadata": {
   "interpreter": {
    "hash": "5cb71912117fd9237603d37179a29596cf0466c6fe9ee17baf8c240e0f6fd266"
   }
  }
 },
 "nbformat": 4,
 "nbformat_minor": 2,
 "cells": [
  {
   "source": [
    "# Capstone Project - The Battle of the Neighborhoods (Week 2) #\n",
    "## Applied Data Science Capstone by IBM/Coursera ##\n",
    "### Fernando Tauscheck ###\n",
    "\n",
    "## Table of contents\n",
    "1. [Introduction: Business Problem](#introduction)<br>\n",
    "2. [Data](#data)<br>\n",
    " 2.1 [Geographic Data:](#data_geolocated)<br>\n",
    "\n",
    "## 1. Introduction: Business Problem <a name=\"introduction\"></a>\n",
    "\n",
    "What define a success of an comercial business? Is location an important factor?\n",
    "\n",
    "In this project we will try to understand how the location affects an business. Althrough the analysis can, in theory, be replicated for any type of business, we will focus on stakeholders interested in opening a **bakery** in Curitiba, Brazil.\n",
    "\n",
    "Since there are lots of bakerys in Curitiba we will try to detect **the geographic and social characteristics of the existing bakeries and try to classify the best unexplored points with these characteristics.**\n",
    "\n",
    "As result, we will try to provide to our stakeholders a list of the best possibles location to open a bakery \n",
    "\n",
    "## 2. Data: <a name=\"data\"></a>\n",
    "\n",
    "\n",
    "Some factors will have influence in our decission:\n",
    "* number of existing bakerys in the neighborhood (or some correlated store)\n",
    "* Socioeconomic data of the neighborhoods of Curitiba (Per capta income, population density, ...)\n",
    "* Zones from City Master Plan\n",
    "* Proximity to streets and avenues of great circulation\n",
    "* If possible, we can try to compare the classification (stars) of each bekary and undestand if location and classification have any correlation\n",
    "\n",
    "### 2.1 Geographic Data: <a name=\"data_geolocated\"></a>###\n",
    "\n",
    "We will get geographic information from Curitiba at the website **Instituto de Pesquisa e Planejamento Urbano de Curitiba** (Institute of Urban Planning and Research of Curitiba also know as IPPUC). The Institute provide maps with the zones of City Master Plan and with the mains streets. These maps was in SHP format (ESRI) and are converted do GeoJSON in a proper representation (WGS84).\n",
    "These GeoJSON files will be inserted in a RDMBS (MySQL 8.0), where we will use the Spatial Analysis Functions to analyse. At the GitHub of this project you can find all scripts of support and the structure of the tables (https://github.com/ftauscheck/The-Battle-of-the-Neighborhoods/tree/main/support)."
   ],
   "cell_type": "markdown",
   "metadata": {}
  },
  {
   "cell_type": "code",
   "execution_count": 18,
   "metadata": {},
   "outputs": [
    {
     "output_type": "error",
     "ename": "ValueError",
     "evalue": "Mime type rendering requires nbformat>=4.2.0 but it is not installed",
     "traceback": [
      "\u001b[0;31m---------------------------------------------------------------------------\u001b[0m",
      "\u001b[0;31mValueError\u001b[0m                                Traceback (most recent call last)",
      "\u001b[0;32m<ipython-input-18-065f863b0034>\u001b[0m in \u001b[0;36m<module>\u001b[0;34m\u001b[0m\n\u001b[1;32m     52\u001b[0m \u001b[0mfig\u001b[0m\u001b[0;34m.\u001b[0m\u001b[0mupdate_layout\u001b[0m\u001b[0;34m(\u001b[0m\u001b[0mmargin\u001b[0m\u001b[0;34m=\u001b[0m\u001b[0;34m{\u001b[0m\u001b[0;34m\"r\"\u001b[0m\u001b[0;34m:\u001b[0m\u001b[0;36m0\u001b[0m\u001b[0;34m,\u001b[0m\u001b[0;34m\"t\"\u001b[0m\u001b[0;34m:\u001b[0m\u001b[0;36m0\u001b[0m\u001b[0;34m,\u001b[0m\u001b[0;34m\"l\"\u001b[0m\u001b[0;34m:\u001b[0m\u001b[0;36m0\u001b[0m\u001b[0;34m,\u001b[0m\u001b[0;34m\"b\"\u001b[0m\u001b[0;34m:\u001b[0m\u001b[0;36m0\u001b[0m\u001b[0;34m}\u001b[0m\u001b[0;34m)\u001b[0m\u001b[0;34m\u001b[0m\u001b[0;34m\u001b[0m\u001b[0m\n\u001b[1;32m     53\u001b[0m \u001b[0;34m\u001b[0m\u001b[0m\n\u001b[0;32m---> 54\u001b[0;31m \u001b[0mfig\u001b[0m\u001b[0;34m.\u001b[0m\u001b[0mshow\u001b[0m\u001b[0;34m(\u001b[0m\u001b[0;34m)\u001b[0m\u001b[0;34m\u001b[0m\u001b[0;34m\u001b[0m\u001b[0m\n\u001b[0m",
      "\u001b[0;32m~/codes/The-Battle-of-the-Neighborhoods/.venv/lib/python3.8/site-packages/plotly/basedatatypes.py\u001b[0m in \u001b[0;36mshow\u001b[0;34m(self, *args, **kwargs)\u001b[0m\n\u001b[1;32m   3395\u001b[0m         \u001b[0;32mimport\u001b[0m \u001b[0mplotly\u001b[0m\u001b[0;34m.\u001b[0m\u001b[0mio\u001b[0m \u001b[0;32mas\u001b[0m \u001b[0mpio\u001b[0m\u001b[0;34m\u001b[0m\u001b[0;34m\u001b[0m\u001b[0m\n\u001b[1;32m   3396\u001b[0m \u001b[0;34m\u001b[0m\u001b[0m\n\u001b[0;32m-> 3397\u001b[0;31m         \u001b[0;32mreturn\u001b[0m \u001b[0mpio\u001b[0m\u001b[0;34m.\u001b[0m\u001b[0mshow\u001b[0m\u001b[0;34m(\u001b[0m\u001b[0mself\u001b[0m\u001b[0;34m,\u001b[0m \u001b[0;34m*\u001b[0m\u001b[0margs\u001b[0m\u001b[0;34m,\u001b[0m \u001b[0;34m**\u001b[0m\u001b[0mkwargs\u001b[0m\u001b[0;34m)\u001b[0m\u001b[0;34m\u001b[0m\u001b[0;34m\u001b[0m\u001b[0m\n\u001b[0m\u001b[1;32m   3398\u001b[0m \u001b[0;34m\u001b[0m\u001b[0m\n\u001b[1;32m   3399\u001b[0m     \u001b[0;32mdef\u001b[0m \u001b[0mto_json\u001b[0m\u001b[0;34m(\u001b[0m\u001b[0mself\u001b[0m\u001b[0;34m,\u001b[0m \u001b[0;34m*\u001b[0m\u001b[0margs\u001b[0m\u001b[0;34m,\u001b[0m \u001b[0;34m**\u001b[0m\u001b[0mkwargs\u001b[0m\u001b[0;34m)\u001b[0m\u001b[0;34m:\u001b[0m\u001b[0;34m\u001b[0m\u001b[0;34m\u001b[0m\u001b[0m\n",
      "\u001b[0;32m~/codes/The-Battle-of-the-Neighborhoods/.venv/lib/python3.8/site-packages/plotly/io/_renderers.py\u001b[0m in \u001b[0;36mshow\u001b[0;34m(fig, renderer, validate, **kwargs)\u001b[0m\n\u001b[1;32m    395\u001b[0m \u001b[0;34m\u001b[0m\u001b[0m\n\u001b[1;32m    396\u001b[0m         \u001b[0;32mif\u001b[0m \u001b[0;32mnot\u001b[0m \u001b[0mnbformat\u001b[0m \u001b[0;32mor\u001b[0m \u001b[0mLooseVersion\u001b[0m\u001b[0;34m(\u001b[0m\u001b[0mnbformat\u001b[0m\u001b[0;34m.\u001b[0m\u001b[0m__version__\u001b[0m\u001b[0;34m)\u001b[0m \u001b[0;34m<\u001b[0m \u001b[0mLooseVersion\u001b[0m\u001b[0;34m(\u001b[0m\u001b[0;34m\"4.2.0\"\u001b[0m\u001b[0;34m)\u001b[0m\u001b[0;34m:\u001b[0m\u001b[0;34m\u001b[0m\u001b[0;34m\u001b[0m\u001b[0m\n\u001b[0;32m--> 397\u001b[0;31m             raise ValueError(\n\u001b[0m\u001b[1;32m    398\u001b[0m                 \u001b[0;34m\"Mime type rendering requires nbformat>=4.2.0 but it is not installed\"\u001b[0m\u001b[0;34m\u001b[0m\u001b[0;34m\u001b[0m\u001b[0m\n\u001b[1;32m    399\u001b[0m             )\n",
      "\u001b[0;31mValueError\u001b[0m: Mime type rendering requires nbformat>=4.2.0 but it is not installed"
     ]
    }
   ],
   "source": [
    "import configparser\n",
    "import MySQLdb\n",
    "import numpy as np\n",
    "import pandas as pd\n",
    "import plotly.express as px    \n",
    "import json\n",
    "\n",
    "# Retrieve configuration\n",
    "config = configparser.ConfigParser()\n",
    "config.read('config.ini')\n",
    "database = config['database']\n",
    "\n",
    "# Connect to database\n",
    "db = MySQLdb.connect(host = database['host'],\n",
    "                     port = int(database['port']),\n",
    "                     user = database['user'],\n",
    "                     passwd = database['passwd'])\n",
    "cur = db.cursor()\n",
    "\n",
    "with open('support/zones.geojson', 'r') as myfile:\n",
    "\tdata=myfile.read()\n",
    "\n",
    "temp_content=[]\n",
    "gj = json.loads(data)\n",
    "\n",
    "names = []\n",
    "for k in gj['features']:\n",
    "    names += [k['properties']['SG_ZONA']]\n",
    "unique_names = set(names)\n",
    "\n",
    "for zona in unique_names:\n",
    "    row = {}\n",
    "    cur.execute(\"SELECT * FROM project.zones_adjust WHERE sg_zone = '\" + zona + \"';\")\n",
    "    records = cur.fetchall()\n",
    "    row['sg_zone'] = zona\n",
    "    row['sg_short'] = records[0][1]\n",
    "    temp_content.append(row)\n",
    "df=pd.DataFrame(temp_content)\n",
    "df.head()\n",
    "             \n",
    "##### Create the Choropleth map with Plotly\n",
    "\n",
    "fig = px.choropleth_mapbox(df, geojson=gj, color=\"sg_short\",\n",
    "                           locations=\"sg_zone\", \n",
    "                           featureidkey=\"properties.SG_ZONA\",\n",
    "                           hover_data= ['sg_short'],                       \n",
    "                           center={\"lat\": -25.40409592, \"lon\": -49.26429676},\n",
    "                           mapbox_style=\"carto-positron\", \n",
    "                           zoom=5.6,\n",
    "                           opacity = 0.7,)\n",
    "                           \n",
    "fig.update_layout(margin={\"r\":0,\"t\":0,\"l\":0,\"b\":0})\n",
    "\n",
    "fig.show()"
   ]
  },
  {
   "source": [
    "From Wikipedia (https://pt.wikipedia.org/wiki/Lista_de_bairros_de_Curitiba) we are scrapping the Socioeconimic data of neighborhoods of Curitiba. These data will be inserted at the MySQL. Scripts can be found at GitHub too (https://github.com/ftauscheck/The-Battle-of-the-Neighborhoods/blob/main/support/neighbour_wiki.py).\n",
    "\n",
    "\n",
    "Another source of information will be the FourSquare API, where we \n",
    "** \n",
    "\n",
    "We decided to use regularly spaced grid of locations, centered around city center, to define our neighborhoods.\n",
    "\n",
    "Following data sources will be needed to extract/generate the required information:\n",
    "\n",
    "centers of candidate areas will be generated algorithmically and approximate addresses of centers of those areas will be obtained using Google Maps API reverse geocoding\n",
    "number of restaurants and their type and location in every neighborhood will be obtained using Foursquare API\n",
    "coordinate of Berlin center will be obtained using Google Maps API geocoding of well known Berlin location (Alexanderplatz)\n",
    "\n",
    "Para nossa análise utilizaremos dados do IPPUC **Instituto de Pesquisa e Planejamento Urbano de Curitiba** (Institute of Urban Planning and Research of Curitiba also know as IPPUC) sobre o Plano Diretor de Curitiba e principais vias da cidade, junto com os dados do Foursquare (obtidos através de requisições via API).\n",
    "\n",
    "\n",
    "\n",
    "\n",
    "\n",
    " O Plano Diretor de Curitiba divide a área do município em Zonas, com regras claras sobre ocupação do solo, altura das edificações e possibilidade (ou não) de comércio ou indústrias no local. Na imagem abaixo (Google Earth) podemos ver o Plano Diretor aplicado. Em vermelho temos Avenidas com grande capacidade. Em laranja uma via dedicada ao transporte público e serviços. No entorno desta via é possível a instalação de prédios mais altos e serviços, enquanto que duas quadras para o lado não temos mais prédios altos.\n",
    "\n",
    "![title](img/GE_zones.png)\n",
    "\n",
    "We will use our data science powers to generate a few most promissing neighborhoods based on this criteria. Advantages of each area will then be clearly expressed so that best possible final location can be chosen by stakeholders."
   ],
   "cell_type": "markdown",
   "metadata": {}
  },
  {
   "source": [
    "import configparser\n",
    "config = configparser.ConfigParser()\n",
    "config.read('config.ini')\n",
    "print(config.sections())\n",
    "config['database']['host']\n",
    "\n",
    "for key in config['database']:  \n",
    "    print(key)\n",
    "    "
   ],
   "cell_type": "code",
   "metadata": {},
   "execution_count": 1,
   "outputs": [
    {
     "output_type": "stream",
     "name": "stdout",
     "text": [
      "['database', 'foursquare_api', 'google_api']\nhost\nport\nuser\npasswd\n"
     ]
    }
   ]
  },
  {
   "cell_type": "code",
   "execution_count": null,
   "metadata": {},
   "outputs": [],
   "source": []
  }
 ]
}