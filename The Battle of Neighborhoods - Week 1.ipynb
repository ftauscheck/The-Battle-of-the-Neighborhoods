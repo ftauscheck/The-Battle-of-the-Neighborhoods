{
 "cells": [
  {
   "cell_type": "markdown",
   "metadata": {},
   "source": [
    "# Capstone Project - The Battle of the Neighborhoods (Week 1) #\n",
    "## Applied Data Science Capstone by IBM/Coursera ##\n",
    "### Fernando Tauscheck ###\n",
    "\n",
    "## Table of contents:\n",
    "1. [Introduction: Business Problem](#introduction)<br>\n",
    "2. [Data](#data)<br>\n",
    " 1 [Geographic Data:](#data_geolocated)<br>\n",
    " 2 [Socioeconomic data of the neighborhoods:](#data_socioeconomic)<br>\n",
    " 3 [Foursquare:](#foursquare)<br>\n",
    " 4 [Work Flow:](#work_flow)\n",
    "\n",
    "## 1. Introduction: Business Problem <a name=\"introduction\"></a>\n",
    "\n",
    "What defines the success of a commercial business? Is location an important factor?\n",
    "\n",
    "In this project, we will try to understand how location affects a business. Although the analysis can, in theory, be replicated for any type of business, we will focus on stakeholders interested in opening a bakery in Curitiba, Brazil.\n",
    "\n",
    "Curitiba is the capital and largest city in the Brazilian state of Paraná. The city's population was 1,948,626 as of 2020, making it the eighth most populous city in Brazil and the largest in Brazil's South Region.\n",
    "\n",
    "According to Foursquare, Curitiba has 608 bakeries and we will try to detect the geographic and social characteristics of the existing bakeries. With this information, we will try to classify the best unexplored points.\n",
    "\n",
    "As result, we want to provide to our stakeholders a list of possibles location to open a bakery\n",
    "\n",
    "## 2. Data:  <a name=\"data\"></a>\n",
    "\n",
    "Some factors will influence our analysis:\n",
    "* Number of existing bakeries in the neighborhood;\n",
    "* Socioeconomic data of the neighborhoods (Per capita income, population density, ...);\n",
    "* Zones from City Master Plan;\n",
    "* Proximity to parks, public square, boardwalk, main streets, and avenues of great circulation;\n",
    "* If possible, we will try to compare the Foursquare Rating, Likes, and Tier of each bakery and understand if the location and these pieces of information have any correlation\n",
    "\n",
    "### 2.1 Geographic Data: <a name=\"data_geolocated\"></a> ###\n",
    "\n",
    "We will get geographic information from Curitiba at the website of the Instituto de Pesquisa e Planejamento Urbano de Curitiba (Institute of Urban Planning and Research of Curitiba also know as IPPUC)[^1]. The Institute provides all sorts of maps of Curitiba. We will use:\n",
    "\n",
    "* Zones of City Master Plan;\n",
    "* Neighborhoods;\n",
    "* Mains streets;\n",
    "* Boardwalks, public squares, and parks \n",
    "\n",
    "These maps are provided in SHP format (ESRI). Posteriorly they are converted to GeoJSON in a proper representation (WGS84). Then, the GeoJSON files are inserted in an RDMBS (MySQL 8.0), where will be used the Spatial Analysis Functions to analyze. At the GitHub of this project[^2], you can find all support scripts and the structure of the tables.\n",
    "\n",
    "[^1]: https://ippuc.org.br/geodownloads/geo.htm\n",
    "[^2]: https://github.com/ftauscheck/The-Battle-of-the-Neighborhoods/tree/main/support\n",
    "\n",
    "\n",
    "### 2.2 Socioeconomic data of the neighborhoods: <a name=\"data_socioeconomic\"></a> ###\n",
    "The socioeconomic data of the municipality will be collected from the Wikipedia article: \"Lista de bairros de Curitiba\"[ˆ3].\n",
    "\n",
    "[ˆ3]: https://pt.wikipedia.org/wiki/Lista_de_bairros_de_Curitiba\n",
    "\n",
    "### 2.3 Foursquare: <a name=\"foursquare\"></a> ###\n",
    "\n",
    "This project will use the Foursquare API as its main data gathering source as it has a database of millions of venues.\n",
    "\n",
    "To restrict the number of venues to request to API, we will filter only the venus with the category \"Bakery\". At the same time, to mitigate the problem with neighborhoods with more than 100 bakeries (an API limitation), we will query the API in clusters of hexagons with 1km of radius. With the venues list, an additional request will be made to collect the retrieved details of each venue.\n",
    "\n",
    "![title](img/01.clusters.png)\n",
    "\n",
    "\n",
    "### 2.4 Work Flow: <a name=\"work_flow\"></a> ###\n",
    "\n",
    "With the data collected and processed, we will use a Polynomial Regression algorithm to predict the Rating, Likes, and Tier of each sub-cluster and prepare a list of best clusters to open a bakery. "
   ]
  }
 ],
 "metadata": {
  "kernelspec": {
   "display_name": "Python 3",
   "language": "python",
   "name": "python3"
  },
  "language_info": {
   "codemirror_mode": {
    "name": "ipython",
    "version": 3
   },
   "file_extension": ".py",
   "mimetype": "text/x-python",
   "name": "python",
   "nbconvert_exporter": "python",
   "pygments_lexer": "ipython3",
   "version": "3.9.2"
  },
  "metadata": {
   "interpreter": {
    "hash": "5cb71912117fd9237603d37179a29596cf0466c6fe9ee17baf8c240e0f6fd266"
   }
  }
 },
 "nbformat": 4,
 "nbformat_minor": 4
}
